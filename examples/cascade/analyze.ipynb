{
 "cells": [
  {
   "cell_type": "code",
   "execution_count": 18,
   "id": "18145bc2-5980-4e4b-afb4-1ff03312b182",
   "metadata": {},
   "outputs": [],
   "source": [
    "import numpy as np\n",
    "import json\n",
    "import os\n",
    "from benchmark.run import args\n",
    "from libem.prepare.datasets import abt_buy\n",
    "from libem.cascade.function import online\n",
    "from util import sensitivity_analysis, generate_stats, confidence_cost_plot, confidence_f1_plot, plot_result, save_results"
   ]
  },
  {
   "cell_type": "code",
   "execution_count": 19,
   "id": "7cf51670-9fea-4fbd-bda8-d0f06ff6f439",
   "metadata": {},
   "outputs": [],
   "source": [
    "cascade_file = \"/Users/charlesxu/libem/examples/cascade/output/2024-10-18-12-40-37-beer-cascade.json\"\n",
    "prematch_file = \"/Users/charlesxu/libem/examples/cascade/output/2024-10-18-12-40-37-beer-gpt-4o-mini.json\"\n",
    "match_file = \"/Users/charlesxu/libem/examples/cascade/output/2024-10-18-12-40-37-beer-gpt-4o.json\"\n",
    "\n",
    "with open(cascade_file, 'r') as file:\n",
    "    cascade_stats = json.load(file)\n",
    "\n",
    "with open(prematch_file, 'r') as file:\n",
    "    prematch_single = json.load(file)\n",
    "    \n",
    "with open(match_file, 'r') as file:\n",
    "    match_single = json.load(file)"
   ]
  },
  {
   "cell_type": "code",
   "execution_count": null,
   "id": "9f85f57c-11aa-4cdc-8c98-8e55285df2ad",
   "metadata": {},
   "outputs": [],
   "source": [
    "# for data in [cascade_stats, prematch_single, match_single]:\n",
    "#     cost = data['stats']['tokens']['cost']\n",
    "#     print(cost)\n",
    "\n",
    "# for model_name, data in zip([prematch_model, match_model, \"Cascade\"], [prematch_single, match_single, cascade]):\n",
    "#     metrics_data['f1'][model_name] = data['stats']['f1']\n",
    "#     metrics_data['cost'][model_name] = data['stats']['tokens']['cost']\n",
    "    \n",
    "# normalized_metrics = {\n",
    "#     'cost': cost\n",
    "# }\n",
    "# metric = 'latency'\n",
    "# for metric, values in normalized_metrics.items():\n",
    "#         plt.figure(figsize=(8, 5))\n",
    "#         plt.bar(np.arange(len(approaches)), values, bar_width, color=metric_colors[metric], label=metric_labels[metric])\n",
    "#         plt.xticks(np.arange(len(approaches)), approaches)\n",
    "#         plt.xlabel('Models')\n",
    "#         plt.ylabel(metric_labels[metric])\n",
    "#         plt.title(metric_titles[metric])\n",
    "#         plt.legend()\n",
    "#         plt.tight_layout()\n",
    "#         file_name = f\"normalized-{metric}-comparison-{timestamp}.png\"\n",
    "#         # plt.savefig(os.path.join(output_path, file_name))\n",
    "#         plt.show()\n",
    "output_path = \"/Users/charlesxu/libem/examples/cascade/examples/cascade/output/\"\n",
    "if not os.path.exists(output_path):\n",
    "    os.makedirs(output_path)\n",
    "    \n",
    "plot_result(cascade_stats, prematch_single, match_single)"
   ]
  },
  {
   "cell_type": "code",
   "execution_count": 22,
   "id": "647652be-0b9a-4e43-9987-5fe6ff5440e5",
   "metadata": {},
   "outputs": [],
   "source": [
    "prematch_results = prematch_single['results']\n",
    "match_results = match_single['results']"
   ]
  },
  {
   "cell_type": "code",
   "execution_count": 23,
   "id": "c649ce4f-a4ca-4bfc-a104-df04753eb419",
   "metadata": {},
   "outputs": [],
   "source": [
    "prematch_mismatches = [pair for pair in prematch_results if (pair['label'] == 1 and \"no\" in pair['pred']) or (pair['label'] == 0 and \"yes\" in pair['pred'])]\n",
    "\n",
    "match_dict = {f\"{pair['left']['beer_name']}-{pair['right']['beer_name']}\": pair for pair in match_results}\n",
    "\n",
    "combined_mismatches = []\n",
    "\n",
    "for prematch in prematch_mismatches:\n",
    "    pair_id = f\"{prematch['left']['beer_name']}-{prematch['right']['beer_name']}\"\n",
    "    match = match_dict.get(pair_id)\n",
    "    if match:\n",
    "        combined_mismatches.append({\n",
    "            \"pair_id\": pair_id,\n",
    "            \"prematch\": {\n",
    "                \"pred\": prematch['pred'],\n",
    "                \"confidence\": prematch['confidence'],\n",
    "                \"label\": prematch['label']\n",
    "            },\n",
    "            \"match\": {\n",
    "                \"pred\": match['pred'],\n",
    "                \"confidence\": match['confidence'],\n",
    "                \"label\": match['label']\n",
    "            }\n",
    "        })\n",
    "\n",
    "with open(\"mismatches.json\", \"w\") as file:\n",
    "    json.dump(combined_mismatches, file, indent=4)"
   ]
  },
  {
   "cell_type": "code",
   "execution_count": null,
   "id": "19ed690a-3b7f-4eb3-b673-1d1791165285",
   "metadata": {},
   "outputs": [],
   "source": []
  }
 ],
 "metadata": {
  "kernelspec": {
   "display_name": "Python 3 (ipykernel)",
   "language": "python",
   "name": "python3"
  },
  "language_info": {
   "codemirror_mode": {
    "name": "ipython",
    "version": 3
   },
   "file_extension": ".py",
   "mimetype": "text/x-python",
   "name": "python",
   "nbconvert_exporter": "python",
   "pygments_lexer": "ipython3",
   "version": "3.10.14"
  }
 },
 "nbformat": 4,
 "nbformat_minor": 5
}
